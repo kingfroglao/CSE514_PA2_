{
 "cells": [
  {
   "cell_type": "code",
   "execution_count": 7,
   "id": "7d3cf064",
   "metadata": {},
   "outputs": [],
   "source": [
    "from sklearn.model_selection import train_test_split\n",
    "from sklearn.preprocessing import LabelEncoder\n",
    "import pandas as pd\n",
    "\n",
    "# Load the dataset\n",
    "df = pd.read_csv(\"bank-full.csv\", delimiter=\";\")\n",
    "\n",
    "# Split the dataset based on the \"marital\" feature into three populations: married, single, and divorced\n",
    "pop_married = df[df['marital'] == 'married']\n",
    "pop_single = df[df['marital'] == 'single']\n",
    "pop_divorced = df[df['marital'] == 'divorced']\n",
    "\n",
    "# Combine the populations into a new dataframe\n",
    "new_df = pd.concat([pop_married, pop_single, pop_divorced])\n",
    "\n",
    "# Selecting the marital status and education columns and the response column\n",
    "new_df = new_df[['marital', 'education', 'y']]\n",
    "\n",
    "# Encoding the response variable \"y\" using label encoding\n",
    "label_encoder_y = LabelEncoder()\n",
    "new_df['y'] = label_encoder_y.fit_transform(new_df['y'])\n",
    "\n",
    "# Encoding the marital status using label encoding\n",
    "label_encoder_marital = LabelEncoder()\n",
    "new_df['marital'] = label_encoder_marital.fit_transform(new_df['marital'])\n",
    "\n",
    "# Drop rows with 'unknown' education level\n",
    "new_df = new_df[new_df['education'] != 'unknown']\n",
    "\n",
    "# Encoding the education using label encoding\n",
    "label_encoder_education = LabelEncoder()\n",
    "new_df['education'] = label_encoder_education.fit_transform(new_df['education'])\n",
    "\n",
    "# Split the dataset into features (X) and the response variable (y)\n",
    "X = new_df[['marital', 'education']]\n",
    "y = new_df['y']\n",
    "\n",
    "# Split the dataset into training and validation sets, ensuring stratification based on marital status\n",
    "X_train, X_valid, y_train, y_valid = train_test_split(X, y, test_size=0.1, random_state=42, stratify=X)\n",
    "\n",
    "# Save the training and validation sets to separate CSV files\n",
    "train_data = pd.concat([X_train, y_train], axis=1)\n",
    "valid_data = pd.concat([X_valid, y_valid], axis=1)\n",
    "\n",
    "train_data.to_csv('train_data.csv', index=False)\n",
    "valid_data.to_csv('valid_data.csv', index=False)\n"
   ]
  }
 ],
 "metadata": {
  "kernelspec": {
   "display_name": "Python 3 (ipykernel)",
   "language": "python",
   "name": "python3"
  },
  "language_info": {
   "codemirror_mode": {
    "name": "ipython",
    "version": 3
   },
   "file_extension": ".py",
   "mimetype": "text/x-python",
   "name": "python",
   "nbconvert_exporter": "python",
   "pygments_lexer": "ipython3",
   "version": "3.11.8"
  }
 },
 "nbformat": 4,
 "nbformat_minor": 5
}
