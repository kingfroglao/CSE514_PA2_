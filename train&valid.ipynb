{
 "cells": [
  {
   "cell_type": "code",
   "execution_count": 1,
   "id": "fe5209d1",
   "metadata": {},
   "outputs": [],
   "source": [
    "from sklearn.model_selection import train_test_split\n",
    "import pandas as pd\n",
    "\n",
    "# Load the dataset\n",
    "df = pd.read_csv(\"bank-full.csv\", delimiter=\";\")\n",
    "\n",
    "# Split the dataset based on the \"marital\" feature into three populations: married, single, and divorced\n",
    "pop_married = df[df['marital'] == 'married']\n",
    "pop_single = df[df['marital'] == 'single']\n",
    "pop_divorced = df[df['marital'] == 'divorced']\n",
    "\n",
    "# Split the populations into training and validation sets\n",
    "train_married, valid_married = train_test_split(pop_married, test_size=0.1, random_state=42)\n",
    "train_single, valid_single = train_test_split(pop_single, test_size=0.1, random_state=42)\n",
    "train_divorced, valid_divorced = train_test_split(pop_divorced, test_size=0.1, random_state=42)\n",
    "\n",
    "# Save the training and validation sets to separate CSV files\n",
    "train_married.to_csv('train_married.csv', index=False)\n",
    "valid_married.to_csv('valid_married.csv', index=False)\n",
    "\n",
    "train_single.to_csv('train_single.csv', index=False)\n",
    "valid_single.to_csv('valid_single.csv', index=False)\n",
    "\n",
    "train_divorced.to_csv('train_divorced.csv', index=False)\n",
    "valid_divorced.to_csv('valid_divorced.csv', index=False)\n"
   ]
  }
 ],
 "metadata": {
  "kernelspec": {
   "display_name": "Python 3 (ipykernel)",
   "language": "python",
   "name": "python3"
  },
  "language_info": {
   "codemirror_mode": {
    "name": "ipython",
    "version": 3
   },
   "file_extension": ".py",
   "mimetype": "text/x-python",
   "name": "python",
   "nbconvert_exporter": "python",
   "pygments_lexer": "ipython3",
   "version": "3.11.8"
  }
 },
 "nbformat": 4,
 "nbformat_minor": 5
}
